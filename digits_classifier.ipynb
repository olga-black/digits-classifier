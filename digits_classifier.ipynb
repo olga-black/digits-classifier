{
 "cells": [
  {
   "cell_type": "code",
   "execution_count": 1,
   "metadata": {},
   "outputs": [],
   "source": [
    "import torch\n",
    "import torch.nn as nn\n",
    "import torch.optim as optim\n",
    "from torch.utils.data import Subset, TensorDataset, DataLoader\n",
    "from torchvision.datasets import MNIST\n",
    "import torchvision.transforms as transforms\n",
    "\n",
    "import matplotlib.pyplot as plt\n",
    "import seaborn as sns\n",
    "\n",
    "from scipy.stats import truncnorm\n",
    "\n",
    "from torchmetrics import Accuracy, F1Score, ConfusionMatrix\n",
    "\n",
    "import time"
   ]
  },
  {
   "cell_type": "code",
   "execution_count": 2,
   "metadata": {},
   "outputs": [
    {
     "name": "stderr",
     "output_type": "stream",
     "text": [
      "/usr/local/lib/python3.8/dist-packages/torch/cuda/__init__.py:52: UserWarning: CUDA initialization: Found no NVIDIA driver on your system. Please check that you have an NVIDIA GPU and installed a driver from http://www.nvidia.com/Download/index.aspx (Triggered internally at  /pytorch/c10/cuda/CUDAFunctions.cpp:100.)\n",
      "  return torch._C._cuda_getDeviceCount() > 0\n"
     ]
    }
   ],
   "source": [
    "device = torch.device(\"cuda\" if torch.cuda.is_available() else \"cpu\")"
   ]
  },
  {
   "cell_type": "markdown",
   "metadata": {},
   "source": [
    "## Load the MNIST dataset and split it into the train, eval, and test set"
   ]
  },
  {
   "cell_type": "code",
   "execution_count": 3,
   "metadata": {},
   "outputs": [],
   "source": [
    "dataset = MNIST(root='./',\n",
    "                transform=transforms.ToTensor(),\n",
    "                download=True)\n"
   ]
  },
  {
   "cell_type": "code",
   "execution_count": 4,
   "metadata": {},
   "outputs": [],
   "source": [
    "test_set = MNIST(root='./',\n",
    "                train=False,\n",
    "                transform=transforms.ToTensor(),\n",
    "                download=True)"
   ]
  },
  {
   "cell_type": "markdown",
   "metadata": {},
   "source": [
    "### Visualize data"
   ]
  },
  {
   "cell_type": "code",
   "execution_count": 5,
   "metadata": {},
   "outputs": [],
   "source": [
    "%matplotlib inline\n",
    "sns.set()"
   ]
  },
  {
   "cell_type": "code",
   "execution_count": 6,
   "metadata": {},
   "outputs": [
    {
     "data": {
      "image/png": "[encoded data removed]",
      "text/plain": [
       "<Figure size 432x288 with 1 Axes>"
      ]
     },
     "metadata": {},
     "output_type": "display_data"
    }
   ],
   "source": [
    "image = dataset[2][0][-1, :, :]\n",
    "label = dataset[2][1]\n",
    "\n",
    "plt.imshow(image, cmap='winter')\n",
    "plt.xlabel(f\"This digit is a {label}\")\n",
    "plt.show()"
   ]
  },
  {
   "cell_type": "markdown",
   "metadata": {},
   "source": [
    "Actual images have white digits on a black background.\n",
    "\n",
    "I am printing them out in color for aesthetic purposes."
   ]
  },
  {
   "cell_type": "code",
   "execution_count": 7,
   "metadata": {},
   "outputs": [],
   "source": [
    "def binary_targets(dataset):\n",
    "    \"\"\"\n",
    "    Change the targets to binary\n",
    "    In: torch dataset\n",
    "    Changes the dataset inplace\n",
    "    Digit 4 -> 1\n",
    "    All other digits -> 0\n",
    "    \"\"\"\n",
    "    \n",
    "    dataset.targets[dataset.targets != 4] = 0\n",
    "    dataset.targets[dataset.targets == 4] = 1"
   ]
  },
  {
   "cell_type": "code",
   "execution_count": 8,
   "metadata": {},
   "outputs": [],
   "source": [
    "binary_targets(dataset)\n",
    "binary_targets(test_set)"
   ]
  },
  {
   "cell_type": "markdown",
   "metadata": {},
   "source": [
    "The available MNIST dataset does not contain a validation set.\n",
    "To prevent overfitting, I will create a validation set by slicing 10 000 images off from the training set."
   ]
  },
  {
   "cell_type": "code",
   "execution_count": 9,
   "metadata": {},
   "outputs": [
    {
     "name": "stdout",
     "output_type": "stream",
     "text": [
      "50000 10000 10000\n"
     ]
    }
   ],
   "source": [
    "train_indices = torch.arange(0, len(dataset)-10000)\n",
    "val_indices = torch.arange(len(dataset)-10000, len(dataset))\n",
    "train_set = Subset(dataset, train_indices)\n",
    "val_set = Subset(dataset, val_indices)\n",
    "print(len(train_set), len(val_set), len(test_set))"
   ]
  },
  {
   "cell_type": "markdown",
   "metadata": {},
   "source": [
    "## Create a custom multi-image dataset from MNIST"
   ]
  },
  {
   "cell_type": "markdown",
   "metadata": {},
   "source": [
    "Average 10\n",
    "images with standard deviation of 3, but no less than 3 and no more than 30."
   ]
  },
  {
   "cell_type": "code",
   "execution_count": 10,
   "metadata": {},
   "outputs": [],
   "source": [
    "def create_dataset_shape(size, mean=10, sd=3, low=3, upp=30):\n",
    "    \"\"\"\n",
    "    In: desired dataset size, mean, standard deviation, lower and upper boundary\n",
    "    Out: tuple of normally distributed values of the given size,\n",
    "        where each item (int) is a randomly generated sequence length\n",
    "    \"\"\"\n",
    "    \n",
    "    trunc = truncnorm((low - mean) / sd, (upp - mean) / sd, loc=mean, scale=sd)\n",
    "    trunc_array = torch.round(torch.from_numpy(trunc.rvs(size))).int()\n",
    "    trunc_list = [int(num) for num in trunc_array]\n",
    "    \n",
    "    return tuple(trunc_list)"
   ]
  },
  {
   "cell_type": "code",
   "execution_count": 11,
   "metadata": {},
   "outputs": [],
   "source": [
    "train_shape = create_dataset_shape(4930)\n",
    "val_shape = create_dataset_shape(960)\n",
    "test_shape = create_dataset_shape(960)"
   ]
  },
  {
   "cell_type": "code",
   "execution_count": 12,
   "metadata": {},
   "outputs": [],
   "source": [
    "assert sum(train_shape) <= len(train_set)\n",
    "assert sum(val_shape) <= len(val_set)\n",
    "assert sum(test_shape) <= len(test_set)"
   ]
  },
  {
   "cell_type": "code",
   "execution_count": 13,
   "metadata": {},
   "outputs": [],
   "source": [
    "def split_x_and_y(dataset):\n",
    "    \"\"\"\n",
    "    Split inputs and targets in order to modify them into a custom dataset\n",
    "    In: torch dataset\n",
    "    Out: inputs (torch tensor), targets (tuple)\n",
    "    \"\"\"\n",
    "\n",
    "    dataset_x, dataset_y = zip(*dataset)\n",
    "    dataset_x = torch.stack(list(dataset_x), dim=0)\n",
    "    dataset_y = torch.tensor(dataset_y)\n",
    "    return dataset_x, dataset_y"
   ]
  },
  {
   "cell_type": "code",
   "execution_count": 14,
   "metadata": {},
   "outputs": [],
   "source": [
    "def custom_dataset(inputs, targets, data_shape):\n",
    "    \"\"\"\n",
    "    In: inputs (tensor) and targets (iterable) from existing dataset;\n",
    "        new desired shape of multi-image dataset\n",
    "    Out: new inputs (len(shape) x max sequence length x channel x image_dim1 x image_dim2) \n",
    "        targets (len(shape))\n",
    "            \n",
    "    \"\"\"\n",
    "    max_seq_len = max(data_shape)\n",
    "    size_x = (len(data_shape), max_seq_len) + tuple(inputs[0].shape)\n",
    "    print(size_x)                                                   \n",
    "    size_y = (len(data_shape), max_seq_len)\n",
    "    print(size_y)\n",
    "    \n",
    "    x = torch.zeros(size_x)\n",
    "    y = torch.zeros(size_y)\n",
    "\n",
    "    line_index = 0\n",
    "\n",
    "    for idx, dim in enumerate(data_shape):\n",
    "        x[idx,0:dim] = inputs[line_index: line_index+dim]\n",
    "        y[idx,0:dim] = targets[line_index: line_index+dim]\n",
    "        line_index += dim\n",
    "\n",
    "    y = torch.where(y.sum(axis=1)>=1, 1, 0)\n",
    "    return x, y"
   ]
  },
  {
   "cell_type": "code",
   "execution_count": 15,
   "metadata": {},
   "outputs": [
    {
     "name": "stdout",
     "output_type": "stream",
     "text": [
      "(4930, 22, 1, 28, 28)\n",
      "(4930, 22)\n"
     ]
    }
   ],
   "source": [
    "train_x, train_y = split_x_and_y(train_set)\n",
    "train_x, train_y = custom_dataset(train_x, train_y, train_shape)"
   ]
  },
  {
   "cell_type": "code",
   "execution_count": 16,
   "metadata": {},
   "outputs": [
    {
     "name": "stdout",
     "output_type": "stream",
     "text": [
      "(960, 20, 1, 28, 28)\n",
      "(960, 20)\n"
     ]
    }
   ],
   "source": [
    "val_x, val_y = split_x_and_y(val_set)\n",
    "val_x, val_y = custom_dataset(val_x, val_y, val_shape)"
   ]
  },
  {
   "cell_type": "code",
   "execution_count": 17,
   "metadata": {},
   "outputs": [
    {
     "name": "stdout",
     "output_type": "stream",
     "text": [
      "(960, 19, 1, 28, 28)\n",
      "(960, 19)\n"
     ]
    }
   ],
   "source": [
    "test_x, test_y = split_x_and_y(test_set)\n",
    "test_x, test_y = custom_dataset(test_x, test_y, test_shape)"
   ]
  },
  {
   "cell_type": "code",
   "execution_count": 18,
   "metadata": {},
   "outputs": [],
   "source": [
    "train_dataset = TensorDataset(train_x, train_y)\n",
    "val_dataset = TensorDataset(val_x, val_y)\n",
    "test_dataset = TensorDataset(test_x, test_y)"
   ]
  },
  {
   "cell_type": "markdown",
   "metadata": {},
   "source": [
    "## Create model"
   ]
  },
  {
   "cell_type": "code",
   "execution_count": 19,
   "metadata": {},
   "outputs": [],
   "source": [
    "class ImageClassifier(nn.Module):\n",
    "    \"\"\"\n",
    "    A deep neural network for binary multi-image data classification\n",
    "    In: dropout rate (small positive float)\n",
    "        number of outputs of the final layer (int)\n",
    "        stride for the convolutional layers (small int)\n",
    "        padding for the convolutional layers (small int)\n",
    "    Out: probabilistic result of the binary image classification (float)\n",
    "    \"\"\"\n",
    "        \n",
    "    def __init__(self,\n",
    "                 dropout_rate,\n",
    "                 n_outputs,\n",
    "                 stride,\n",
    "                 padding\n",
    "                ):\n",
    "        \n",
    "        super().__init__()\n",
    "        \n",
    "        self.conv1 = nn.Conv2d(1, 32, 3, stride=stride, padding=padding)\n",
    "        self.conv2 = nn.Conv2d(32, 32, 3, stride=stride, padding=padding)\n",
    "        self.conv3 = nn.Conv2d(32, 64, 3, stride=stride, padding=padding)\n",
    "        self.relu = nn.ReLU()\n",
    "        self.dropout = nn.Dropout(p=dropout_rate)\n",
    "        self.fc1 = nn.Linear(1024, 256)\n",
    "        self.fc2 = nn.Linear(256, n_outputs)\n",
    "        self.sigmoid = nn.Sigmoid()\n",
    "    \n",
    "    def forward(self, inputs): \n",
    "        x_tmp = inputs.reshape(inputs.shape[0]*inputs.shape[1], 1, inputs.shape[3], inputs.shape[4])\n",
    "        x = self.relu(self.conv1(x_tmp))\n",
    "        x = self.relu(self.conv2(x))\n",
    "        x = self.relu(self.conv3(x))\n",
    "        x = x.reshape(inputs.shape[0], inputs.shape[1], 1024)\n",
    "        x = x.mean(dim=1) \n",
    "        x = self.dropout(self.fc1(x))\n",
    "        x = self.fc2(x)\n",
    "        x = self.sigmoid(x)\n",
    "\n",
    "        return x"
   ]
  },
  {
   "cell_type": "markdown",
   "metadata": {},
   "source": [
    "Hyperparameters"
   ]
  },
  {
   "cell_type": "code",
   "execution_count": 20,
   "metadata": {},
   "outputs": [],
   "source": [
    "n_outputs = 1\n",
    "dropout_rate = 0.3\n",
    "num_epochs = 20\n",
    "stride = 2\n",
    "padding = 1"
   ]
  },
  {
   "cell_type": "code",
   "execution_count": 21,
   "metadata": {},
   "outputs": [
    {
     "name": "stdout",
     "output_type": "stream",
     "text": [
      "ImageClassifier(\n",
      "  (conv1): Conv2d(1, 32, kernel_size=(3, 3), stride=(2, 2), padding=(1, 1))\n",
      "  (conv2): Conv2d(32, 32, kernel_size=(3, 3), stride=(2, 2), padding=(1, 1))\n",
      "  (conv3): Conv2d(32, 64, kernel_size=(3, 3), stride=(2, 2), padding=(1, 1))\n",
      "  (relu): ReLU()\n",
      "  (dropout): Dropout(p=0.3, inplace=False)\n",
      "  (fc1): Linear(in_features=1024, out_features=256, bias=True)\n",
      "  (fc2): Linear(in_features=256, out_features=1, bias=True)\n",
      "  (sigmoid): Sigmoid()\n",
      ")\n"
     ]
    }
   ],
   "source": [
    "model = ImageClassifier(\n",
    "                        dropout_rate=dropout_rate,\n",
    "                        n_outputs=n_outputs,\n",
    "                        stride=stride,\n",
    "                        padding=padding,\n",
    "                        ).to(device)\n",
    "print(model)"
   ]
  },
  {
   "cell_type": "markdown",
   "metadata": {},
   "source": [
    "Create data loaders"
   ]
  },
  {
   "cell_type": "code",
   "execution_count": 22,
   "metadata": {},
   "outputs": [
    {
     "name": "stdout",
     "output_type": "stream",
     "text": [
      "torch.Size([64, 22, 1, 28, 28])\n"
     ]
    }
   ],
   "source": [
    "train_loader = DataLoader(train_dataset, batch_size=64, shuffle = True)\n",
    "val_loader = DataLoader(val_dataset, batch_size=64, shuffle = True)\n",
    "test_loader = DataLoader(test_dataset, batch_size=64, shuffle = True)\n",
    "\n",
    "for data, labels in train_loader:\n",
    "    print(data.shape)\n",
    "    seq_length = data.shape[1]\n",
    "    break"
   ]
  },
  {
   "cell_type": "markdown",
   "metadata": {},
   "source": [
    "## Train model"
   ]
  },
  {
   "cell_type": "code",
   "execution_count": 23,
   "metadata": {},
   "outputs": [],
   "source": [
    "def train_model(train_loader=train_loader,\n",
    "                val_loader=val_loader,\n",
    "                model=model,\n",
    "                criterion=nn.BCELoss(),\n",
    "                num_epochs=num_epochs\n",
    "               ):\n",
    "    \"\"\"\n",
    "    Training loop for the model\n",
    "    In: training and validation data loaders (torch DataLoader)\n",
    "        model (instance of torch.nn.Module)\n",
    "        criterion: loss function\n",
    "        number of epochs to the model train for, int\n",
    "        learning rate: small positive float value\n",
    "    Out: training losses (list of floats) and validation losses (list of floats), per epoch\n",
    "    \"\"\"\n",
    "\n",
    "    \n",
    "    start_time = time.time()\n",
    "    \n",
    "    train_losses = []\n",
    "    val_losses = []\n",
    "    accs = []\n",
    "    val_accs = []\n",
    "    \n",
    "    for epoch in range(num_epochs):\n",
    "        total_loss = 0\n",
    "        total_loss_val = 0\n",
    "\n",
    "        model.train()\n",
    "        \n",
    "        for inputs, targets in train_loader: \n",
    "            inputs = inputs.to(device=device)\n",
    "            targets = targets.to(device=device)\n",
    "            \n",
    "            optimizer= torch.optim.Adam(model.parameters(), \n",
    "                                        lr=0.001 if epoch < num_epochs//2 else 0.0001)\n",
    "            optimizer.zero_grad()\n",
    "            \n",
    "            \n",
    "            output = model(inputs)\n",
    "            loss = criterion(output.squeeze(), targets.float())\n",
    "            loss.backward()\n",
    "\n",
    "            optimizer.step()\n",
    "            total_loss += loss.item()\n",
    "\n",
    "            \n",
    "        train_losses.append(total_loss/len(train_loader))\n",
    "        model.eval()\n",
    "        \n",
    "        \n",
    "        for val_inputs, val_labels in val_loader:\n",
    "            val_output = model(val_inputs)\n",
    "            val_loss = criterion(val_output.squeeze(), val_labels.float())\n",
    "            total_loss_val += val_loss.item()\n",
    "            \n",
    "            \n",
    "        val_losses.append(total_loss_val/len(val_loader))\n",
    "    \n",
    "        \n",
    "        print(f\"Epoch: {epoch+1}/{ num_epochs}\\t\",\n",
    "              f\"{((time.time() - start_time) / 60):.2f} min\\t\",\n",
    "              f\"Loss: {total_loss/len(train_loader):.3f}\\t\",\n",
    "              f\"Val Loss: {total_loss_val/len(val_loader):.3f}\\t\")\n",
    "            \n",
    "            \n",
    "    print(f\"Training completed in {(time.time() - start_time) / 60} min.\")\n",
    "    \n",
    "    return train_losses, val_losses"
   ]
  },
  {
   "cell_type": "code",
   "execution_count": 24,
   "metadata": {},
   "outputs": [
    {
     "name": "stdout",
     "output_type": "stream",
     "text": [
      "Epoch: 1/20\t 0.28 min\t Loss: 0.657\t Val Loss: 0.869\t\n",
      "Epoch: 2/20\t 0.56 min\t Loss: 0.618\t Val Loss: 0.737\t\n",
      "Epoch: 3/20\t 0.84 min\t Loss: 0.570\t Val Loss: 0.831\t\n",
      "Epoch: 4/20\t 1.13 min\t Loss: 0.503\t Val Loss: 0.798\t\n",
      "Epoch: 5/20\t 1.40 min\t Loss: 0.446\t Val Loss: 1.320\t\n",
      "Epoch: 6/20\t 1.70 min\t Loss: 0.408\t Val Loss: 0.650\t\n",
      "Epoch: 7/20\t 2.00 min\t Loss: 0.322\t Val Loss: 0.218\t\n",
      "Epoch: 8/20\t 2.30 min\t Loss: 0.290\t Val Loss: 0.225\t\n",
      "Epoch: 9/20\t 2.60 min\t Loss: 0.234\t Val Loss: 0.186\t\n",
      "Epoch: 10/20\t 2.89 min\t Loss: 0.220\t Val Loss: 0.672\t\n",
      "Epoch: 11/20\t 3.20 min\t Loss: 0.184\t Val Loss: 0.129\t\n",
      "Epoch: 12/20\t 3.48 min\t Loss: 0.149\t Val Loss: 0.119\t\n",
      "Epoch: 13/20\t 3.76 min\t Loss: 0.142\t Val Loss: 0.115\t\n",
      "Epoch: 14/20\t 4.03 min\t Loss: 0.138\t Val Loss: 0.113\t\n",
      "Epoch: 15/20\t 4.31 min\t Loss: 0.132\t Val Loss: 0.122\t\n",
      "Epoch: 16/20\t 4.59 min\t Loss: 0.128\t Val Loss: 0.107\t\n",
      "Epoch: 17/20\t 4.90 min\t Loss: 0.128\t Val Loss: 0.106\t\n",
      "Epoch: 18/20\t 5.20 min\t Loss: 0.123\t Val Loss: 0.112\t\n",
      "Epoch: 19/20\t 5.48 min\t Loss: 0.132\t Val Loss: 0.101\t\n",
      "Epoch: 20/20\t 5.78 min\t Loss: 0.116\t Val Loss: 0.108\t\n",
      "Training completed in 5.781665555636088 min.\n"
     ]
    }
   ],
   "source": [
    "train_losses, val_losses = train_model()"
   ]
  },
  {
   "cell_type": "markdown",
   "metadata": {},
   "source": [
    "## Evaluate the model"
   ]
  },
  {
   "cell_type": "code",
   "execution_count": 25,
   "metadata": {},
   "outputs": [],
   "source": [
    "def evaluate_performance(model, data_loader):\n",
    "    \"\"\"\n",
    "    Evaluate the model performance on the given set\n",
    "    In: model, test data loader (torch DataLoader)\n",
    "    Out: accuracy, F1 score, confusion matrix (torch tensors)\n",
    "    \"\"\"\n",
    "    size = len(data_loader)\n",
    "    \n",
    "    model = model\n",
    "    model.eval()\n",
    "    \n",
    "    f1 = F1Score()\n",
    "    conf_mat = ConfusionMatrix(num_classes=2)\n",
    "    acc = Accuracy()\n",
    "\n",
    "    \n",
    "    total_f1 = 0\n",
    "    total_conf_mat = 0\n",
    "    total_acc = 0\n",
    "\n",
    "    \n",
    "    with torch.no_grad():\n",
    "        for inputs, labels in data_loader:\n",
    "            inputs = inputs.to(device)\n",
    "            labels = labels.to(device)\n",
    "            \n",
    "            output = model(inputs)\n",
    "            total_f1 += f1(output.squeeze(), labels)\n",
    "            total_acc += acc(output.squeeze(), labels)\n",
    "            total_conf_mat += conf_mat(output.squeeze(), labels)\n",
    "\n",
    "    \n",
    "    return total_f1/size, total_acc/size, total_conf_mat"
   ]
  },
  {
   "cell_type": "markdown",
   "metadata": {},
   "source": [
    "### Evaluate the model on the training and validation set"
   ]
  },
  {
   "cell_type": "code",
   "execution_count": 26,
   "metadata": {},
   "outputs": [],
   "source": [
    "train_f1, train_acc, train_conf_mat = evaluate_performance(model, train_loader)\n",
    "val_f1, val_acc, val_conf_mat = evaluate_performance(model, val_loader)"
   ]
  },
  {
   "cell_type": "code",
   "execution_count": 27,
   "metadata": {},
   "outputs": [
    {
     "name": "stdout",
     "output_type": "stream",
     "text": [
      "Training set: Accuracy: 0.958\t F1 Score: 0.967\n",
      "Validation set: Accuracy: 0.954\t F1 Score: 0.965\n"
     ]
    }
   ],
   "source": [
    "print(f\"Training set: Accuracy: {float(train_acc):.3f}\\t F1 Score: {float(train_f1):.3f}\" )\n",
    "print(f\"Validation set: Accuracy: {float(val_acc):.3f}\\t F1 Score: {float(val_f1):.3f}\" )"
   ]
  },
  {
   "cell_type": "markdown",
   "metadata": {},
   "source": [
    "Plot the confusion matrices for the training and validation set"
   ]
  },
  {
   "cell_type": "code",
   "execution_count": 28,
   "metadata": {},
   "outputs": [
    {
     "data": {
      "image/png": "[encoded data removed]",
      "text/plain": [
       "<Figure size 216x216 with 2 Axes>"
      ]
     },
     "metadata": {},
     "output_type": "display_data"
    }
   ],
   "source": [
    "_ = plt.figure(figsize=(3,3))\n",
    "_ = sns.heatmap(train_conf_mat.numpy(), cmap = \"winter_r\", annot=True, fmt='d')\n",
    "_ = plt.title(\"Confusion matrix\\nfor the train set\\n\", fontsize='x-large', fontweight='bold')\n",
    "_ = plt.xlabel(\"Actual N     Actual P\")\n",
    "_ = plt.ylabel(\"Predicted P     Predicted N\")\n",
    "plt.show()\n",
    "    \n",
    "    "
   ]
  },
  {
   "cell_type": "code",
   "execution_count": 29,
   "metadata": {},
   "outputs": [
    {
     "data": {
      "image/png": "[encoded data removed]",
      "text/plain": [
       "<Figure size 216x216 with 2 Axes>"
      ]
     },
     "metadata": {},
     "output_type": "display_data"
    }
   ],
   "source": [
    "_ = plt.figure(figsize=(3,3))\n",
    "_ = sns.heatmap(val_conf_mat.numpy(), cmap = \"winter_r\", annot=True, fmt='d')\n",
    "_ = plt.title(\"Confusion matrix\\nfor the val set\\n\", fontsize='x-large', fontweight='bold')\n",
    "_ = plt.xlabel(\"Actual N     Actual P\")\n",
    "_ = plt.ylabel(\"Predicted P     Predicted N\")\n",
    "plt.show()"
   ]
  },
  {
   "cell_type": "markdown",
   "metadata": {},
   "source": [
    "### Evaluate the model on the test set"
   ]
  },
  {
   "cell_type": "code",
   "execution_count": 42,
   "metadata": {},
   "outputs": [
    {
     "name": "stdout",
     "output_type": "stream",
     "text": [
      "Test set: Accuracy: 0.939\t F1 Score: 0.952\n"
     ]
    }
   ],
   "source": [
    "test_f1, test_acc, test_conf_mat = evaluate_performance(model, test_loader)\n",
    "print(f\"Test set: Accuracy: {float(test_acc):.3f}\\t F1 Score: {float(test_f1):.3f}\" )"
   ]
  },
  {
   "cell_type": "markdown",
   "metadata": {},
   "source": [
    "Plot the confusion matrix for the test set"
   ]
  },
  {
   "cell_type": "code",
   "execution_count": 43,
   "metadata": {},
   "outputs": [
    {
     "data": {
      "image/png": "[encoded data removed]",
      "text/plain": [
       "<Figure size 216x216 with 2 Axes>"
      ]
     },
     "metadata": {},
     "output_type": "display_data"
    }
   ],
   "source": [
    "_ = plt.figure(figsize=(3,3))\n",
    "_ = sns.heatmap(test_conf_mat.numpy(), cmap = \"winter_r\", annot=True, fmt='d')\n",
    "_ = plt.title(\"Confusion matrix\\nfor the test set\\n\", fontsize='x-large', fontweight='bold')\n",
    "_ = plt.xlabel(\"Actual N     Actual P\")\n",
    "_ = plt.ylabel(\"Predicted P     Predicted N\")\n",
    "plt.show()"
   ]
  },
  {
   "cell_type": "markdown",
   "metadata": {},
   "source": [
    "## Make predictions"
   ]
  },
  {
   "cell_type": "code",
   "execution_count": 44,
   "metadata": {},
   "outputs": [],
   "source": [
    "def predict(data, model=model, verbose=True):\n",
    "    \"\"\"\n",
    "    In: a data point consisting of multiple images\n",
    "        of the shape (1 x seq length x 1 x 28 x 28)\n",
    "        classification model (instance of torch.nn)\n",
    "        if verbose: prints the images of the digits \n",
    "                    and a text message with prediction result\n",
    "    Out: 1 if 4 if sequence of images contains a 4, 0 if not\n",
    "    \"\"\"\n",
    "    \n",
    "    pred_loader = torch.utils.data.DataLoader(data, batch_size=1)\n",
    "    model.eval()\n",
    "    \n",
    "    total_output = []\n",
    "    \n",
    "    for x in pred_loader:\n",
    "        output = model(x)\n",
    "        total_output.append(output)\n",
    "        \n",
    "        if verbose:\n",
    "            for seq in x:\n",
    "                for idx, img in enumerate(seq):\n",
    "                    if img.sum() > 0:\n",
    "                        _ = plt.figure(figsize=(1,1))\n",
    "                        _ = plt.imshow(img[-1, :, :], cmap='winter')\n",
    "                        plt.show()\n",
    "\n",
    "            print (\"This sequence of images contains a 4\" if output >= 0.5 \\\n",
    "                else \"This sequence of images doesn't contain a 4\")\n",
    "    \n",
    "    return [1  if output >= 0.5 else 0 for output in total_output]"
   ]
  },
  {
   "cell_type": "code",
   "execution_count": 45,
   "metadata": {},
   "outputs": [
    {
     "data": {
      "image/png": "[encoded data removed]",
      "text/plain": [
       "<Figure size 72x72 with 1 Axes>"
      ]
     },
     "metadata": {},
     "output_type": "display_data"
    },
    {
     "data": {
      "image/png": "[encoded data removed]",
      "text/plain": [
       "<Figure size 72x72 with 1 Axes>"
      ]
     },
     "metadata": {},
     "output_type": "display_data"
    },
    {
     "data": {
      "image/png": "[encoded data removed]",
      "text/plain": [
       "<Figure size 72x72 with 1 Axes>"
      ]
     },
     "metadata": {},
     "output_type": "display_data"
    },
    {
     "data": {
      "image/png": "[encoded data removed]",
      "text/plain": [
       "<Figure size 72x72 with 1 Axes>"
      ]
     },
     "metadata": {},
     "output_type": "display_data"
    },
    {
     "data": {
      "image/png": "[encoded data removed]",
      "text/plain": [
       "<Figure size 72x72 with 1 Axes>"
      ]
     },
     "metadata": {},
     "output_type": "display_data"
    },
    {
     "data": {
      "image/png": "[encoded data removed]",
      "text/plain": [
       "<Figure size 72x72 with 1 Axes>"
      ]
     },
     "metadata": {},
     "output_type": "display_data"
    },
    {
     "data": {
      "image/png": "[encoded data removed]",
      "text/plain": [
       "<Figure size 72x72 with 1 Axes>"
      ]
     },
     "metadata": {},
     "output_type": "display_data"
    },
    {
     "data": {
      "image/png": "[encoded data removed]",
      "text/plain": [
       "<Figure size 72x72 with 1 Axes>"
      ]
     },
     "metadata": {},
     "output_type": "display_data"
    },
    {
     "data": {
      "image/png": "[encoded data removed]",
      "text/plain": [
       "<Figure size 72x72 with 1 Axes>"
      ]
     },
     "metadata": {},
     "output_type": "display_data"
    },
    {
     "data": {
      "image/png": "[encoded data removed]",
      "text/plain": [
       "<Figure size 72x72 with 1 Axes>"
      ]
     },
     "metadata": {},
     "output_type": "display_data"
    },
    {
     "data": {
      "image/png": "[encoded data removed]",
      "text/plain": [
       "<Figure size 72x72 with 1 Axes>"
      ]
     },
     "metadata": {},
     "output_type": "display_data"
    },
    {
     "data": {
      "image/png": "[encoded data removed]",
      "text/plain": [
       "<Figure size 72x72 with 1 Axes>"
      ]
     },
     "metadata": {},
     "output_type": "display_data"
    },
    {
     "data": {
      "image/png": "[encoded data removed]",
      "text/plain": [
       "<Figure size 72x72 with 1 Axes>"
      ]
     },
     "metadata": {},
     "output_type": "display_data"
    },
    {
     "data": {
      "image/png": "[encoded data removed]",
      "text/plain": [
       "<Figure size 72x72 with 1 Axes>"
      ]
     },
     "metadata": {},
     "output_type": "display_data"
    },
    {
     "data": {
      "image/png": "[encoded data removed]",
      "text/plain": [
       "<Figure size 72x72 with 1 Axes>"
      ]
     },
     "metadata": {},
     "output_type": "display_data"
    },
    {
     "data": {
      "image/png": "[encoded data removed]",
      "text/plain": [
       "<Figure size 72x72 with 1 Axes>"
      ]
     },
     "metadata": {},
     "output_type": "display_data"
    },
    {
     "data": {
      "image/png": "[encoded data removed]",
      "text/plain": [
       "<Figure size 72x72 with 1 Axes>"
      ]
     },
     "metadata": {},
     "output_type": "display_data"
    },
    {
     "name": "stdout",
     "output_type": "stream",
     "text": [
      "This sequence of images contains a 4\n"
     ]
    },
    {
     "data": {
      "image/png": "[encoded data removed]",
      "text/plain": [
       "<Figure size 72x72 with 1 Axes>"
      ]
     },
     "metadata": {},
     "output_type": "display_data"
    },
    {
     "data": {
      "image/png": "[encoded data removed]",
      "text/plain": [
       "<Figure size 72x72 with 1 Axes>"
      ]
     },
     "metadata": {},
     "output_type": "display_data"
    },
    {
     "data": {
      "image/png": "[encoded data removed]",
      "text/plain": [
       "<Figure size 72x72 with 1 Axes>"
      ]
     },
     "metadata": {},
     "output_type": "display_data"
    },
    {
     "data": {
      "image/png": "[encoded data removed]",
      "text/plain": [
       "<Figure size 72x72 with 1 Axes>"
      ]
     },
     "metadata": {},
     "output_type": "display_data"
    },
    {
     "data": {
      "image/png": "[encoded data removed]",
      "text/plain": [
       "<Figure size 72x72 with 1 Axes>"
      ]
     },
     "metadata": {},
     "output_type": "display_data"
    },
    {
     "data": {
      "image/png": "[encoded data removed]",
      "text/plain": [
       "<Figure size 72x72 with 1 Axes>"
      ]
     },
     "metadata": {},
     "output_type": "display_data"
    },
    {
     "data": {
      "image/png": "[encoded data removed]",
      "text/plain": [
       "<Figure size 72x72 with 1 Axes>"
      ]
     },
     "metadata": {},
     "output_type": "display_data"
    },
    {
     "data": {
      "image/png": "[encoded data removed]",
      "text/plain": [
       "<Figure size 72x72 with 1 Axes>"
      ]
     },
     "metadata": {},
     "output_type": "display_data"
    },
    {
     "data": {
      "image/png": "[encoded data removed]",
      "text/plain": [
       "<Figure size 72x72 with 1 Axes>"
      ]
     },
     "metadata": {},
     "output_type": "display_data"
    },
    {
     "data": {
      "image/png": "[encoded data removed]",
      "text/plain": [
       "<Figure size 72x72 with 1 Axes>"
      ]
     },
     "metadata": {},
     "output_type": "display_data"
    },
    {
     "data": {
      "image/png": "[encoded data removed]",
      "text/plain": [
       "<Figure size 72x72 with 1 Axes>"
      ]
     },
     "metadata": {},
     "output_type": "display_data"
    },
    {
     "name": "stdout",
     "output_type": "stream",
     "text": [
      "This sequence of images doesn't contain a 4\n"
     ]
    }
   ],
   "source": [
    "random_imgs = test_x[torch.randint(high=len(test_x),size=[2])]\n",
    "pred = predict(random_imgs)"
   ]
  },
  {
   "cell_type": "code",
   "execution_count": null,
   "metadata": {},
   "outputs": [],
   "source": []
  }
 ],
 "metadata": {
  "kernelspec": {
   "display_name": "Python 3",
   "language": "python",
   "name": "python3"
  },
  "language_info": {
   "codemirror_mode": {
    "name": "ipython",
    "version": 3
   },
   "file_extension": ".py",
   "mimetype": "text/x-python",
   "name": "python",
   "nbconvert_exporter": "python",
   "pygments_lexer": "ipython3",
   "version": "3.8.10"
  }
 },
 "nbformat": 4,
 "nbformat_minor": 4
}
